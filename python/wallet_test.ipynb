{
 "cells": [
  {
   "cell_type": "code",
   "execution_count": 1,
   "id": "1bf28b54",
   "metadata": {},
   "outputs": [],
   "source": [
    "import wallet"
   ]
  },
  {
   "cell_type": "code",
   "execution_count": 2,
   "id": "680fc08c",
   "metadata": {},
   "outputs": [],
   "source": [
    "privkey = \"b6afb2f946c9451f484948df67425325f3f11dfb52f4f5c531a2530246786cbe\"\n",
    "pubkey = \"c7dd4213641cbf8daaad5ab89f6f1735ed8a0cc682be89f83a9d18680850a07d\""
   ]
  },
  {
   "cell_type": "code",
   "execution_count": 3,
   "id": "6e534f5f",
   "metadata": {},
   "outputs": [],
   "source": [
    "base_url = \"http://localhost:80\""
   ]
  },
  {
   "cell_type": "code",
   "execution_count": 4,
   "id": "87e032a5",
   "metadata": {},
   "outputs": [],
   "source": [
    "w1 = wallet.Wallet(base_url, privkey, pubkey)"
   ]
  },
  {
   "cell_type": "code",
   "execution_count": 5,
   "id": "cf7acf52",
   "metadata": {},
   "outputs": [
    {
     "data": {
      "text/plain": [
       "b'[\\x9c\\x7f\\x83\\xfa\\xa2I\\xd6\\x90o\\xaf\\xff\\x8b\\xf9w\\xdf'"
      ]
     },
     "execution_count": 5,
     "metadata": {},
     "output_type": "execute_result"
    }
   ],
   "source": [
    "w1.get_token()"
   ]
  },
  {
   "cell_type": "code",
   "execution_count": 9,
   "id": "bb5ee877",
   "metadata": {},
   "outputs": [
    {
     "data": {
      "text/plain": [
       "b'CkAKEgoQW5x/g/qiSdaQb6//i/l33xIiCiDH3UITZBy/jaqtWrifbxc17YoMxoK+ifg6nRhoCFCgfRoGCInc+7gGEkIKQJyfj+lpd/3/XV83EYj8oE4mJNGrjypkmujVzeW7Q4n6Vfm6vTpVJLs3aa5dGiXqHfq7lF3tJc9RHoKPdHTzJG0='"
      ]
     },
     "execution_count": 9,
     "metadata": {},
     "output_type": "execute_result"
    }
   ],
   "source": [
    "w1.create_authtoken()"
   ]
  },
  {
   "cell_type": "code",
   "execution_count": 7,
   "id": "b0cd1410",
   "metadata": {},
   "outputs": [
    {
     "data": {
      "text/plain": [
       "{'value': {'availableAmount': 2000,\n",
       "  'totalAmount': 2000,\n",
       "  'totalTopups': 2000,\n",
       "  'notConfirmedTopups': 0,\n",
       "  'settledEarnings': 0,\n",
       "  'totalEarnings': 0,\n",
       "  'totalPayments': 0,\n",
       "  'inFlightPayments': 0,\n",
       "  'totalPayouts': 0,\n",
       "  'inProgressPayouts': 0,\n",
       "  'totalPaymentFees': 0,\n",
       "  'inFlightPaymentFees': 0,\n",
       "  'totalPayoutOnChainFees': 0,\n",
       "  'inProgressPayoutOnChainFees': 0,\n",
       "  'totalPayoutFees': 0,\n",
       "  'inProgressPayoutFees': 0},\n",
       " 'errorCode': 0,\n",
       " 'errorMessage': ''}"
      ]
     },
     "execution_count": 7,
     "metadata": {},
     "output_type": "execute_result"
    }
   ],
   "source": [
    "w1.getbalance()"
   ]
  },
  {
   "cell_type": "code",
   "execution_count": 19,
   "id": "1c2a69f7",
   "metadata": {},
   "outputs": [
    {
     "data": {
      "text/plain": [
       "{'value': 'bcrt1q6qtc4s3fntj95zhcvpallnz6ldt8afcy4nvjnw',\n",
       " 'errorCode': 0,\n",
       " 'errorMessage': ''}"
      ]
     },
     "execution_count": 19,
     "metadata": {},
     "output_type": "execute_result"
    }
   ],
   "source": [
    "w1.newaddress()"
   ]
  },
  {
   "cell_type": "code",
   "execution_count": 20,
   "id": "9e461354",
   "metadata": {},
   "outputs": [
    {
     "data": {
      "text/plain": [
       "{'errorCode': 0, 'errorMessage': ''}"
      ]
     },
     "execution_count": 20,
     "metadata": {},
     "output_type": "execute_result"
    }
   ],
   "source": [
    "w1.topupandmine6blocks(w1.newaddress()[\"value\"], 1000)"
   ]
  },
  {
   "cell_type": "code",
   "execution_count": 21,
   "id": "33127961",
   "metadata": {},
   "outputs": [
    {
     "data": {
      "text/plain": [
       "{'value': {'availableAmount': 2000,\n",
       "  'totalAmount': 2000,\n",
       "  'totalTopups': 2000,\n",
       "  'notConfirmedTopups': 0,\n",
       "  'settledEarnings': 0,\n",
       "  'totalEarnings': 0,\n",
       "  'totalPayments': 0,\n",
       "  'inFlightPayments': 0,\n",
       "  'totalPayouts': 0,\n",
       "  'inProgressPayouts': 0,\n",
       "  'totalPaymentFees': 0,\n",
       "  'inFlightPaymentFees': 0,\n",
       "  'totalPayoutOnChainFees': 0,\n",
       "  'inProgressPayoutOnChainFees': 0,\n",
       "  'totalPayoutFees': 0,\n",
       "  'inProgressPayoutFees': 0},\n",
       " 'errorCode': 0,\n",
       " 'errorMessage': ''}"
      ]
     },
     "execution_count": 21,
     "metadata": {},
     "output_type": "execute_result"
    }
   ],
   "source": [
    "w1.getbalance()"
   ]
  },
  {
   "cell_type": "code",
   "execution_count": 12,
   "id": "2fb871d4",
   "metadata": {},
   "outputs": [
    {
     "data": {
      "text/plain": [
       "{'value': [{'paymentRequest': 'lnbcrt100u1pn34cshpp55uqencfw382t4cqampdsdhhxw05fhuyksfswg6c4k97wjzau8wpsdq8w3jhxaqcqzzsxqp2sp5e0jx4ydqapjrzwcgwtjt3l27twuxhqr720x3s2c0y6jc29may0vs9p4gqqqqqqqqqqqqqqqqqqqqqqqqqqqqqqqqqqqqqqqqqqqqqqpqysgquzg8ree2nxgfkdeq94wg9sydfhfhls4nx794snj6m49hpanecc04054fg276cfm9nwp7ad9crvfcu8wvwkgydacz8mdzu2rwgydv4zspyw2j5e',\n",
       "   'state': 2,\n",
       "   'isHodl': False,\n",
       "   'settleTime': '1970-01-01T00:00:00Z',\n",
       "   'paymentHash': 'a70199e12e89d4bae01dd85b06dee673e89bf0968260e46b15b17ce90bbc3b83',\n",
       "   'satoshis': 10000,\n",
       "   'paymentAddr': 'cbe46a91a0e864313b0872e4b8fd5e5bb86b807e53cd182b0f26a585177d23d9',\n",
       "   'memo': 'test',\n",
       "   'creationTime': '2024-10-25T00:11:03Z',\n",
       "   'expiryTime': '2024-10-25T00:11:13Z'}],\n",
       " 'errorCode': 0,\n",
       " 'errorMessage': ''}"
      ]
     },
     "execution_count": 12,
     "metadata": {},
     "output_type": "execute_result"
    }
   ],
   "source": [
    "w1.listinvoices()"
   ]
  },
  {
   "cell_type": "code",
   "execution_count": 40,
   "id": "1b604e99",
   "metadata": {},
   "outputs": [],
   "source": [
    "inv = w1.addinvoice(10000,\"test\",10)[\"value\"]"
   ]
  },
  {
   "cell_type": "code",
   "execution_count": 41,
   "id": "d9e4bdb9",
   "metadata": {},
   "outputs": [],
   "source": [
    "payr=w1.sendpayment(inv[\"paymentRequest\"],100,1000)"
   ]
  },
  {
   "cell_type": "code",
   "execution_count": 43,
   "id": "fc87b342",
   "metadata": {},
   "outputs": [
    {
     "data": {
      "text/plain": [
       "{'value': [{'paymentRequest': 'lnbcrt100u1pn34cshpp55uqencfw382t4cqampdsdhhxw05fhuyksfswg6c4k97wjzau8wpsdq8w3jhxaqcqzzsxqp2sp5e0jx4ydqapjrzwcgwtjt3l27twuxhqr720x3s2c0y6jc29may0vs9p4gqqqqqqqqqqqqqqqqqqqqqqqqqqqqqqqqqqqqqqqqqqqqqqpqysgquzg8ree2nxgfkdeq94wg9sydfhfhls4nx794snj6m49hpanecc04054fg276cfm9nwp7ad9crvfcu8wvwkgydacz8mdzu2rwgydv4zspyw2j5e',\n",
       "   'state': 2,\n",
       "   'isHodl': False,\n",
       "   'settleTime': '1970-01-01T00:00:00Z',\n",
       "   'paymentHash': 'a70199e12e89d4bae01dd85b06dee673e89bf0968260e46b15b17ce90bbc3b83',\n",
       "   'satoshis': 10000,\n",
       "   'paymentAddr': 'cbe46a91a0e864313b0872e4b8fd5e5bb86b807e53cd182b0f26a585177d23d9',\n",
       "   'memo': 'test',\n",
       "   'creationTime': '2024-10-25T00:11:03Z',\n",
       "   'expiryTime': '2024-10-25T00:11:13Z'}],\n",
       " 'errorCode': 0,\n",
       " 'errorMessage': ''}"
      ]
     },
     "execution_count": 43,
     "metadata": {},
     "output_type": "execute_result"
    }
   ],
   "source": [
    "w1.listinvoices()"
   ]
  },
  {
   "cell_type": "code",
   "execution_count": 44,
   "id": "209c49a0",
   "metadata": {},
   "outputs": [
    {
     "data": {
      "text/plain": [
       "{'value': {'paymentRequest': 'lnbcrt100u1pn34cshpp55uqencfw382t4cqampdsdhhxw05fhuyksfswg6c4k97wjzau8wpsdq8w3jhxaqcqzzsxqp2sp5e0jx4ydqapjrzwcgwtjt3l27twuxhqr720x3s2c0y6jc29may0vs9p4gqqqqqqqqqqqqqqqqqqqqqqqqqqqqqqqqqqqqqqqqqqqqqqpqysgquzg8ree2nxgfkdeq94wg9sydfhfhls4nx794snj6m49hpanecc04054fg276cfm9nwp7ad9crvfcu8wvwkgydacz8mdzu2rwgydv4zspyw2j5e',\n",
       "  'state': 2,\n",
       "  'isHodl': False,\n",
       "  'settleTime': '1970-01-01T00:00:00Z',\n",
       "  'paymentHash': 'a70199e12e89d4bae01dd85b06dee673e89bf0968260e46b15b17ce90bbc3b83',\n",
       "  'satoshis': 10000,\n",
       "  'paymentAddr': 'cbe46a91a0e864313b0872e4b8fd5e5bb86b807e53cd182b0f26a585177d23d9',\n",
       "  'memo': 'test',\n",
       "  'creationTime': '2024-10-25T00:11:03Z',\n",
       "  'expiryTime': '2024-10-25T00:11:13Z'},\n",
       " 'errorCode': 0,\n",
       " 'errorMessage': ''}"
      ]
     },
     "execution_count": 44,
     "metadata": {},
     "output_type": "execute_result"
    }
   ],
   "source": [
    "w1.getinvoice(\"a70199e12e89d4bae01dd85b06dee673e89bf0968260e46b15b17ce90bbc3b83\")"
   ]
  },
  {
   "cell_type": "code",
   "execution_count": 51,
   "id": "85bc60e8",
   "metadata": {},
   "outputs": [],
   "source": [
    "from random import randbytes"
   ]
  },
  {
   "cell_type": "code",
   "execution_count": 24,
   "id": "fb6c6c13",
   "metadata": {},
   "outputs": [],
   "source": [
    "preim = randbytes(32)"
   ]
  },
  {
   "cell_type": "code",
   "execution_count": 25,
   "id": "df8ca2eb",
   "metadata": {},
   "outputs": [
    {
     "name": "stdout",
     "output_type": "stream",
     "text": [
      "{'value': {'paymentRequest': 'lnbcrt100u1pnw9pw9pp5rp5xjs4uvqkf4lqsvpvplg2ae7k2wj44wsey94qwhh25t6kpeytsdq8w3jhxaqcqzzsxqp2sp5tmjjqxpkm5qxj93f5ltve2dlekl25dq4z3qxqmluf7y6vdykw95q9p4gqqqqqqqqqqqqqqqqqqqqqqqqqqqqqqqqqqqqqqqqqqqqqqpqysgqkq9ywq4tf7jntl0hdmxq4qraxm74q77uyn5p3f78hncz8hw205unxc4zv08enqnrwavxm5f4qpx6386wj542etpkpd6aqtt0ausy67gpw069t8', 'state': 0, 'isHodl': True, 'settleTime': None, 'paymentHash': '18686942bc602c9afc1060581fa15dcfaca74ab5743242d40ebdd545eac1c917', 'satoshis': 10000, 'paymentAddr': '5ee5201836dd00691629a7d6cca9bfcdbeaa34151440606ffc4f89a634967168', 'memo': 'test', 'creationTime': '2024-09-12T06:10:13Z', 'expiryTime': '2024-09-12T06:10:23Z'}, 'errorCode': 0, 'errorMessage': ''}\n"
     ]
    },
    {
     "data": {
      "text/plain": [
       "{'value': {'paymentRequest': 'lnbcrt100u1pnw9pw9pp5rp5xjs4uvqkf4lqsvpvplg2ae7k2wj44wsey94qwhh25t6kpeytsdq8w3jhxaqcqzzsxqp2sp5tmjjqxpkm5qxj93f5ltve2dlekl25dq4z3qxqmluf7y6vdykw95q9p4gqqqqqqqqqqqqqqqqqqqqqqqqqqqqqqqqqqqqqqqqqqqqqqpqysgqkq9ywq4tf7jntl0hdmxq4qraxm74q77uyn5p3f78hncz8hw205unxc4zv08enqnrwavxm5f4qpx6386wj542etpkpd6aqtt0ausy67gpw069t8',\n",
       "  'state': 0,\n",
       "  'isHodl': True,\n",
       "  'settleTime': None,\n",
       "  'paymentHash': '18686942bc602c9afc1060581fa15dcfaca74ab5743242d40ebdd545eac1c917',\n",
       "  'satoshis': 10000,\n",
       "  'paymentAddr': '5ee5201836dd00691629a7d6cca9bfcdbeaa34151440606ffc4f89a634967168',\n",
       "  'memo': 'test',\n",
       "  'creationTime': '2024-09-12T06:10:13Z',\n",
       "  'expiryTime': '2024-09-12T06:10:23Z'},\n",
       " 'errorCode': 0,\n",
       " 'errorMessage': ''}"
      ]
     },
     "execution_count": 25,
     "metadata": {},
     "output_type": "execute_result"
    }
   ],
   "source": [
    "w1.addhodlinvoice(10000,preim.hex(),\"test\",10)"
   ]
  },
  {
   "cell_type": "code",
   "execution_count": 26,
   "id": "c4bc7faa",
   "metadata": {},
   "outputs": [
    {
     "data": {
      "text/plain": [
       "{'errorCode': 12,\n",
       " 'errorMessage': 'Status(StatusCode=\"NotFound\", Detail=\"unable to locate invoice\")'}"
      ]
     },
     "execution_count": 26,
     "metadata": {},
     "output_type": "execute_result"
    }
   ],
   "source": [
    "w1.settleinvoice(preim.hex())"
   ]
  },
  {
   "cell_type": "code",
   "execution_count": 27,
   "id": "58ea2361",
   "metadata": {},
   "outputs": [
    {
     "data": {
      "text/plain": [
       "{'value': [{'paymentRequest': 'lnbcrt100u1pnw9pdlpp52rc65jemlc7sp6v8kdp66m7tplt8w77ccydah8udjulh75ktulkqdq8w3jhxaqcqzzsxqp2sp57lzwyktkf9jnz793utpdscxuxjhu5knu3hr0um2x8hraz3u89thq9p4gqqqqqqqqqqqqqqqqqqqqqqqqqqqqqqqqqqqqqqqqqqqqqqpqysgqhkxvnmfnywnzx04mnxdkt232ga7pqataut9xgms2g40w0qgyxr6xw8c5yj96kmukyl90cf88vuuuwt2jmet5p4da8u3t4etldkjcqhcp2n05fy',\n",
       "   'state': 0,\n",
       "   'isHodl': False,\n",
       "   'settleTime': '1970-01-01T00:00:00Z',\n",
       "   'paymentHash': '50f1aa4b3bfe3d00e987b343ad6fcb0fd6777bd8c11bdb9f8d973f7f52cbe7ec',\n",
       "   'satoshis': 10000,\n",
       "   'paymentAddr': 'f7c4e2597649653178b1e2c2d860dc34afca5a7c8dc6fe6d463dc7d147872aee',\n",
       "   'memo': 'test',\n",
       "   'creationTime': '2024-09-12T06:10:07Z',\n",
       "   'expiryTime': '2024-09-12T06:10:17Z'},\n",
       "  {'paymentRequest': 'lnbcrt100u1pnw9pw9pp5rp5xjs4uvqkf4lqsvpvplg2ae7k2wj44wsey94qwhh25t6kpeytsdq8w3jhxaqcqzzsxqp2sp5tmjjqxpkm5qxj93f5ltve2dlekl25dq4z3qxqmluf7y6vdykw95q9p4gqqqqqqqqqqqqqqqqqqqqqqqqqqqqqqqqqqqqqqqqqqqqqqpqysgqkq9ywq4tf7jntl0hdmxq4qraxm74q77uyn5p3f78hncz8hw205unxc4zv08enqnrwavxm5f4qpx6386wj542etpkpd6aqtt0ausy67gpw069t8',\n",
       "   'state': 0,\n",
       "   'isHodl': True,\n",
       "   'settleTime': '1970-01-01T00:00:00Z',\n",
       "   'paymentHash': '18686942bc602c9afc1060581fa15dcfaca74ab5743242d40ebdd545eac1c917',\n",
       "   'satoshis': 10000,\n",
       "   'paymentAddr': '5ee5201836dd00691629a7d6cca9bfcdbeaa34151440606ffc4f89a634967168',\n",
       "   'memo': 'test',\n",
       "   'creationTime': '2024-09-12T06:10:13Z',\n",
       "   'expiryTime': '2024-09-12T06:10:23Z'}],\n",
       " 'errorCode': 0,\n",
       " 'errorMessage': ''}"
      ]
     },
     "execution_count": 27,
     "metadata": {},
     "output_type": "execute_result"
    }
   ],
   "source": [
    "w1.listinvoices()"
   ]
  }
 ],
 "metadata": {
  "kernelspec": {
   "display_name": "Python 3 (ipykernel)",
   "language": "python",
   "name": "python3"
  },
  "language_info": {
   "codemirror_mode": {
    "name": "ipython",
    "version": 3
   },
   "file_extension": ".py",
   "mimetype": "text/x-python",
   "name": "python",
   "nbconvert_exporter": "python",
   "pygments_lexer": "ipython3",
   "version": "3.12.1"
  }
 },
 "nbformat": 4,
 "nbformat_minor": 5
}
