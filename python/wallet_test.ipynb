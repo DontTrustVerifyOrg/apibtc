{
 "cells": [
  {
   "cell_type": "code",
   "execution_count": 1,
   "id": "1bf28b54",
   "metadata": {},
   "outputs": [],
   "source": [
    "import wallet"
   ]
  },
  {
   "cell_type": "code",
   "execution_count": 2,
   "id": "680fc08c",
   "metadata": {},
   "outputs": [],
   "source": [
    "privkey = \"b6afb2f946c9451f484948df67425325f3f11dfb52f4f5c531a2530246786cbe\"\n",
    "pubkey = \"c7dd4213641cbf8daaad5ab89f6f1735ed8a0cc682be89f83a9d18680850a07d\""
   ]
  },
  {
   "cell_type": "code",
   "execution_count": 3,
   "id": "6e534f5f",
   "metadata": {},
   "outputs": [],
   "source": [
    "base_url = \"http://localhost:7101\""
   ]
  },
  {
   "cell_type": "code",
   "execution_count": null,
   "id": "87e032a5",
   "metadata": {},
   "outputs": [],
   "source": [
    "w1 = wallet.Wallet(base_url, privkey)"
   ]
  },
  {
   "cell_type": "code",
   "execution_count": null,
   "id": "cf7acf52",
   "metadata": {},
   "outputs": [],
   "source": [
    "w1.get_token()"
   ]
  },
  {
   "cell_type": "code",
   "execution_count": null,
   "id": "bb5ee877",
   "metadata": {},
   "outputs": [],
   "source": [
    "w1.create_authtoken()"
   ]
  },
  {
   "cell_type": "code",
   "execution_count": null,
   "id": "b0cd1410",
   "metadata": {},
   "outputs": [],
   "source": [
    "w1.getbalance()"
   ]
  },
  {
   "cell_type": "code",
   "execution_count": null,
   "id": "1c2a69f7",
   "metadata": {},
   "outputs": [],
   "source": [
    "w1.newaddress()"
   ]
  },
  {
   "cell_type": "code",
   "execution_count": null,
   "id": "9e461354",
   "metadata": {},
   "outputs": [],
   "source": [
    "w1.topupandmine6blocks(w1.newaddress()[\"value\"], 1000)"
   ]
  },
  {
   "cell_type": "code",
   "execution_count": null,
   "id": "33127961",
   "metadata": {},
   "outputs": [],
   "source": [
    "w1.getbalance()"
   ]
  },
  {
   "cell_type": "code",
   "execution_count": null,
   "id": "2fb871d4",
   "metadata": {},
   "outputs": [],
   "source": [
    "w1.listinvoices()"
   ]
  },
  {
   "cell_type": "code",
   "execution_count": 40,
   "id": "1b604e99",
   "metadata": {},
   "outputs": [],
   "source": [
    "inv = w1.addinvoice(10000,\"test\",10)[\"value\"]"
   ]
  },
  {
   "cell_type": "code",
   "execution_count": 41,
   "id": "d9e4bdb9",
   "metadata": {},
   "outputs": [],
   "source": [
    "payr=w1.sendpayment(inv[\"paymentRequest\"],100,1000)"
   ]
  },
  {
   "cell_type": "code",
   "execution_count": null,
   "id": "fc87b342",
   "metadata": {},
   "outputs": [],
   "source": [
    "w1.listinvoices()"
   ]
  },
  {
   "cell_type": "code",
   "execution_count": null,
   "id": "209c49a0",
   "metadata": {},
   "outputs": [],
   "source": [
    "w1.getinvoice(\"a70199e12e89d4bae01dd85b06dee673e89bf0968260e46b15b17ce90bbc3b83\")"
   ]
  },
  {
   "cell_type": "code",
   "execution_count": 51,
   "id": "85bc60e8",
   "metadata": {},
   "outputs": [],
   "source": [
    "from random import randbytes"
   ]
  },
  {
   "cell_type": "code",
   "execution_count": 24,
   "id": "fb6c6c13",
   "metadata": {},
   "outputs": [],
   "source": [
    "preim = randbytes(32)"
   ]
  },
  {
   "cell_type": "code",
   "execution_count": null,
   "id": "df8ca2eb",
   "metadata": {},
   "outputs": [],
   "source": [
    "w1.addhodlinvoice(10000,preim.hex(),\"test\",10)"
   ]
  },
  {
   "cell_type": "code",
   "execution_count": null,
   "id": "c4bc7faa",
   "metadata": {},
   "outputs": [],
   "source": [
    "w1.settleinvoice(preim.hex())"
   ]
  },
  {
   "cell_type": "code",
   "execution_count": null,
   "id": "58ea2361",
   "metadata": {},
   "outputs": [],
   "source": [
    "w1.listinvoices()"
   ]
  }
 ],
 "metadata": {
  "kernelspec": {
   "display_name": "Python 3 (ipykernel)",
   "language": "python",
   "name": "python3"
  },
  "language_info": {
   "codemirror_mode": {
    "name": "ipython",
    "version": 3
   },
   "file_extension": ".py",
   "mimetype": "text/x-python",
   "name": "python",
   "nbconvert_exporter": "python",
   "pygments_lexer": "ipython3",
   "version": "3.12.1"
  }
 },
 "nbformat": 4,
 "nbformat_minor": 5
}
