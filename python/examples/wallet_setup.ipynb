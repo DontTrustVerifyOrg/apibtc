{
 "cells": [
  {
   "cell_type": "code",
   "execution_count": 1,
   "metadata": {},
   "outputs": [],
   "source": [
    "from mnemonic import Mnemonic\n",
    "from bip32utils import BIP32Key\n",
    "import os\n",
    "\n",
    "os.chdir(\"..\")\n",
    "import wallet\n",
    "import walletstreaming\n"
   ]
  },
  {
   "cell_type": "code",
   "execution_count": 2,
   "metadata": {},
   "outputs": [],
   "source": [
    "WALLET_API = \"https://regtest.apibtc.org/apibtc/\"\n",
    "#WALLET_API = \"http://localhost:7101\"\n",
    "WALLET_N = 2\n",
    "wallets = []"
   ]
  },
  {
   "cell_type": "code",
   "execution_count": 3,
   "metadata": {},
   "outputs": [],
   "source": [
    "for i in range(WALLET_N):\n",
    "    mnemon = Mnemonic('english')\n",
    "    words = mnemon.generate(128)\n",
    "    private_key = BIP32Key.fromEntropy(mnemon.to_seed(words)).PrivateKey().hex()\n",
    "    w=wallet.Wallet(WALLET_API, private_key)\n",
    "    w.topupandmine6blocks(w.newaddress(),100000)\n",
    "    wallets.append(w)"
   ]
  },
  {
   "cell_type": "code",
   "execution_count": null,
   "metadata": {},
   "outputs": [
    {
     "name": "stdout",
     "output_type": "stream",
     "text": [
      "connection opened and handshake received ready to send messages\n",
      "Invoice state update: {'paymentHash': '3b0561c2cafd022c8dd429854f10fa30a52ea65a4de0426727f54153ce021478', 'newState': 3}\n",
      "Invoice state update: {'paymentHash': '3b0561c2cafd022c8dd429854f10fa30a52ea65a4de0426727f54153ce021478', 'newState': 1}\n"
     ]
    }
   ],
   "source": [
    "wstr = walletstreaming.WalletStreaming(wallets[0])\n",
    "invoicestateupdates = wstr.invoicestateupdates()"
   ]
  },
  {
   "cell_type": "code",
   "execution_count": 5,
   "metadata": {},
   "outputs": [],
   "source": [
    "def invoice_state_handler(invoice_state):\n",
    "    print(\"Invoice state update:\", invoice_state)\n"
   ]
  },
  {
   "cell_type": "code",
   "execution_count": 6,
   "metadata": {},
   "outputs": [],
   "source": [
    "invoicestateupdates.stream(invoice_state_handler, lambda e,x: print(x))"
   ]
  },
  {
   "cell_type": "code",
   "execution_count": 7,
   "metadata": {},
   "outputs": [
    {
     "data": {
      "text/plain": [
       "{'paymentHash': '3b0561c2cafd022c8dd429854f10fa30a52ea65a4de0426727f54153ce021478',\n",
       " 'status': 2,\n",
       " 'failureReason': 0,\n",
       " 'satoshis': 10000,\n",
       " 'feeMsat': 0,\n",
       " 'creationTime': '2025-04-07T09:17:34Z'}"
      ]
     },
     "execution_count": 7,
     "metadata": {},
     "output_type": "execute_result"
    }
   ],
   "source": [
    "invoice = wallets[0].addinvoice(10000,\"test\",1000)\n",
    "wallets[1].sendpayment(invoice[\"paymentRequest\"],1000,1000)"
   ]
  },
  {
   "cell_type": "code",
   "execution_count": 13,
   "metadata": {},
   "outputs": [
    {
     "data": {
      "text/plain": [
       "{'paymentRequest': 'lnbcrt100u1pnl89l5pp5gp3s60ujj9pwf6k94wps8jd7960hun8e2e8fzdq3uplars84zxsqdq8w3jhxaqcqzzsxqzlgsp5cg6n5hqatmqtmg2szkp8ut99njd89g835zuwl0fc3g0evwccyhss9p4gqqqqqqqqqqqqqqqqqqqqqqqqqqqqqqqqqqqqqqqqqqqqqqpqysgqez2gz06nza2al6edewarraktg2a7uhlqty4ek3q5m2pyd4hwj39xddpk2v3qjsp36cfrh7h4tqk9kkvag6x4hrlmpxng4el4vrgz3acq8wlx4v',\n",
       " 'state': 0,\n",
       " 'isHodl': False,\n",
       " 'settleTime': None,\n",
       " 'paymentHash': '40630d3f929142e4eac5ab8303c9be2e9f7e4cf9564e913411e07fd1c0f511a0',\n",
       " 'satoshis': 10000,\n",
       " 'paymentAddr': 'c2353a5c1d5ec0bda15015827e2ca59c9a72a0f1a0b8efbd388a1f963b1825e1',\n",
       " 'memo': 'test',\n",
       " 'creationTime': '2025-04-07T09:16:36Z',\n",
       " 'expiryTime': '2025-04-07T09:33:16Z'}"
      ]
     },
     "execution_count": 13,
     "metadata": {},
     "output_type": "execute_result"
    }
   ],
   "source": [
    "invoice"
   ]
  },
  {
   "cell_type": "code",
   "execution_count": 17,
   "metadata": {},
   "outputs": [
    {
     "name": "stderr",
     "output_type": "stream",
     "text": [
      "Connection stop\n",
      "++Sent raw: b'\\x88\\x82\\xed\\xdb\\xd4V\\xee3'\n",
      "++Sent decoded: fin=1 opcode=8 data=b'\\x03\\xe8'\n"
     ]
    }
   ],
   "source": [
    "invoicestateupdates.stop()"
   ]
  },
  {
   "cell_type": "code",
   "execution_count": null,
   "metadata": {},
   "outputs": [],
   "source": []
  }
 ],
 "metadata": {
  "kernelspec": {
   "display_name": "llm",
   "language": "python",
   "name": "python3"
  },
  "language_info": {
   "codemirror_mode": {
    "name": "ipython",
    "version": 3
   },
   "file_extension": ".py",
   "mimetype": "text/x-python",
   "name": "python",
   "nbconvert_exporter": "python",
   "pygments_lexer": "ipython3",
   "version": "3.10.11"
  }
 },
 "nbformat": 4,
 "nbformat_minor": 2
}
