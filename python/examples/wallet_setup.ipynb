{
 "cells": [
  {
   "cell_type": "code",
   "execution_count": 1,
   "metadata": {},
   "outputs": [],
   "source": [
    "from mnemonic import Mnemonic\n",
    "from bip32utils import BIP32Key\n",
    "import os\n",
    "\n",
    "os.chdir(\"..\")\n",
    "import wallet\n"
   ]
  },
  {
   "cell_type": "code",
   "execution_count": 2,
   "metadata": {},
   "outputs": [],
   "source": [
    "WALLET_API = \"http://localhost:7101\""
   ]
  },
  {
   "cell_type": "code",
   "execution_count": 3,
   "metadata": {},
   "outputs": [],
   "source": [
    "mnemon = Mnemonic('english')\n",
    "words = mnemon.generate(128)"
   ]
  },
  {
   "cell_type": "code",
   "execution_count": 4,
   "metadata": {},
   "outputs": [
    {
     "name": "stdout",
     "output_type": "stream",
     "text": [
      "lady bronze live observe emotion orchard master gap bracket major bar media\n"
     ]
    }
   ],
   "source": [
    "print(words)"
   ]
  },
  {
   "cell_type": "code",
   "execution_count": 5,
   "metadata": {},
   "outputs": [
    {
     "data": {
      "text/plain": [
       "'eaae9a018f24a1cf18133d7ecba45c2ed75895c8ecaec72dccb8fa595c94af04'"
      ]
     },
     "execution_count": 5,
     "metadata": {},
     "output_type": "execute_result"
    }
   ],
   "source": [
    "private_key = BIP32Key.fromEntropy(mnemon.to_seed(words)).PrivateKey().hex()\n",
    "private_key"
   ]
  },
  {
   "cell_type": "code",
   "execution_count": 6,
   "metadata": {},
   "outputs": [],
   "source": [
    "w=wallet.Wallet(WALLET_API, private_key)"
   ]
  },
  {
   "cell_type": "code",
   "execution_count": 7,
   "metadata": {},
   "outputs": [
    {
     "data": {
      "text/plain": [
       "{'availableAmount': 0,\n",
       " 'totalAmount': 0,\n",
       " 'totalTopups': 0,\n",
       " 'notConfirmedTopups': 0,\n",
       " 'settledEarnings': 0,\n",
       " 'totalEarnings': 0,\n",
       " 'totalPayments': 0,\n",
       " 'inFlightPayments': 0,\n",
       " 'totalPayouts': 0,\n",
       " 'inProgressPayouts': 0,\n",
       " 'totalPaymentFees': 0,\n",
       " 'inFlightPaymentFees': 0,\n",
       " 'totalPayoutOnChainFees': 0,\n",
       " 'inProgressPayoutOnChainFees': 0,\n",
       " 'totalPayoutFees': 0,\n",
       " 'inProgressPayoutFees': 0}"
      ]
     },
     "execution_count": 7,
     "metadata": {},
     "output_type": "execute_result"
    }
   ],
   "source": [
    "w.getbalance()"
   ]
  },
  {
   "cell_type": "code",
   "execution_count": 8,
   "metadata": {},
   "outputs": [],
   "source": [
    "w.topupandmine6blocks(w.newaddress(),100000)"
   ]
  },
  {
   "cell_type": "code",
   "execution_count": 9,
   "metadata": {},
   "outputs": [
    {
     "data": {
      "text/plain": [
       "{'availableAmount': 0,\n",
       " 'totalAmount': 100000,\n",
       " 'totalTopups': 100000,\n",
       " 'notConfirmedTopups': 100000,\n",
       " 'settledEarnings': 0,\n",
       " 'totalEarnings': 0,\n",
       " 'totalPayments': 0,\n",
       " 'inFlightPayments': 0,\n",
       " 'totalPayouts': 0,\n",
       " 'inProgressPayouts': 0,\n",
       " 'totalPaymentFees': 0,\n",
       " 'inFlightPaymentFees': 0,\n",
       " 'totalPayoutOnChainFees': 0,\n",
       " 'inProgressPayoutOnChainFees': 0,\n",
       " 'totalPayoutFees': 0,\n",
       " 'inProgressPayoutFees': 0}"
      ]
     },
     "execution_count": 9,
     "metadata": {},
     "output_type": "execute_result"
    }
   ],
   "source": [
    "w.getbalance()"
   ]
  },
  {
   "cell_type": "code",
   "execution_count": 21,
   "metadata": {},
   "outputs": [
    {
     "data": {
      "text/plain": [
       "{'paymentRequest': 'lnbcrt10u1pn7k837pp5kt653rdgkurg8jsxnkfauyel9tyqmkgjae0hy4js3qdrek3ekpfqdq8w3jhxaqcqzzsxqp7sp5722hkcx869t5aq80jdu470uydxpzve60e6y9ca70saj5ktv0dnws9p4gqqqqqqqqqqqqqqqqqqqqqqqqqqqqqqqqqqqqqqqqqqqqqqpqysgq34y0xkx4gtuxlpz3tgp0js2jzunhs8wds9uackdng4wal6rqerw8kunx4yn8vggpu3qsymzj97dwvdzryg9y85qefqdf2gl76s0ldygqndhjyt',\n",
       " 'state': 0,\n",
       " 'isHodl': False,\n",
       " 'settleTime': None,\n",
       " 'paymentHash': 'b2f5488da8b70683ca069d93de133f2ac80dd912ee5f725650881a3cda39b052',\n",
       " 'satoshis': 1000,\n",
       " 'paymentAddr': 'f2957b60c7d1574e80ef93795f3f84698226674fce885c77cf87654b2d8f6cdd',\n",
       " 'memo': 'test',\n",
       " 'creationTime': '2025-03-31T22:59:10Z',\n",
       " 'expiryTime': '2025-03-31T22:59:40Z'}"
      ]
     },
     "execution_count": 21,
     "metadata": {},
     "output_type": "execute_result"
    }
   ],
   "source": [
    "invoice = w.addinvoice(1000,\"test\",30)\n",
    "invoice"
   ]
  },
  {
   "cell_type": "code",
   "execution_count": 22,
   "metadata": {},
   "outputs": [
    {
     "data": {
      "image/png": "[encoded data removed]",
      "text/plain": [
       "<qrcode.image.pil.PilImage at 0x111093a00>"
      ]
     },
     "execution_count": 22,
     "metadata": {},
     "output_type": "execute_result"
    }
   ],
   "source": [
    "import qrcode\n",
    "img = qrcode.make(invoice[\"paymentRequest\"])\n",
    "img"
   ]
  },
  {
   "cell_type": "code",
   "execution_count": null,
   "metadata": {},
   "outputs": [
    {
     "name": "stderr",
     "output_type": "stream",
     "text": [
      "Connection started\n",
      "Connection started\n",
      "Negotiate url:http://localhost:7101/invoicestateupdates/negotiate?authtoken=CkAKEgoQYZkanJK3QR6coz4RnxVlcBIiCiD4oI9Y5VGrbT3TFfBehHoJ3%2BDS1qPGXr7OAGbKLOW20xoGCL%2B8rL8GEkIKQAESAgUVqW6nTLvrs6ga7%2BZ%2Bbf5wcQqbqn7ut9C01HujJmkpWjjydQiDnQZ/O0ypgrmkNQ3TGi7V4SAQoDe3VGQ%3D\n",
      "Negotiate url:http://localhost:7101/invoicestateupdates/negotiate?authtoken=CkAKEgoQYZkanJK3QR6coz4RnxVlcBIiCiD4oI9Y5VGrbT3TFfBehHoJ3%2BDS1qPGXr7OAGbKLOW20xoGCL%2B8rL8GEkIKQAESAgUVqW6nTLvrs6ga7%2BZ%2Bbf5wcQqbqn7ut9C01HujJmkpWjjydQiDnQZ/O0ypgrmkNQ3TGi7V4SAQoDe3VGQ%3D\n",
      "Response status code200\n",
      "Response status code200\n",
      "start url:ws://localhost:7101/invoicestateupdates?authtoken=CkAKEgoQYZkanJK3QR6coz4RnxVlcBIiCiD4oI9Y5VGrbT3TFfBehHoJ3%2BDS1qPGXr7OAGbKLOW20xoGCL%2B8rL8GEkIKQAESAgUVqW6nTLvrs6ga7%2BZ%2Bbf5wcQqbqn7ut9C01HujJmkpWjjydQiDnQZ%2FO0ypgrmkNQ3TGi7V4SAQoDe3VGQ%3D&id=TxfHIQR5_IunT8SI7nru8g\n",
      "start url:ws://localhost:7101/invoicestateupdates?authtoken=CkAKEgoQYZkanJK3QR6coz4RnxVlcBIiCiD4oI9Y5VGrbT3TFfBehHoJ3%2BDS1qPGXr7OAGbKLOW20xoGCL%2B8rL8GEkIKQAESAgUVqW6nTLvrs6ga7%2BZ%2Bbf5wcQqbqn7ut9C01HujJmkpWjjydQiDnQZ%2FO0ypgrmkNQ3TGi7V4SAQoDe3VGQ%3D&id=TxfHIQR5_IunT8SI7nru8g\n",
      "--- request header ---\n",
      "GET /invoicestateupdates?authtoken=CkAKEgoQYZkanJK3QR6coz4RnxVlcBIiCiD4oI9Y5VGrbT3TFfBehHoJ3%2BDS1qPGXr7OAGbKLOW20xoGCL%2B8rL8GEkIKQAESAgUVqW6nTLvrs6ga7%2BZ%2Bbf5wcQqbqn7ut9C01HujJmkpWjjydQiDnQZ%2FO0ypgrmkNQ3TGi7V4SAQoDe3VGQ%3D&id=TxfHIQR5_IunT8SI7nru8g HTTP/1.1\n",
      "Upgrade: websocket\n",
      "Host: localhost:7101\n",
      "Origin: http://localhost:7101\n",
      "Sec-WebSocket-Key: 46F+pWgr4ZuHZMwtwktNAw==\n",
      "Sec-WebSocket-Version: 13\n",
      "Connection: Upgrade\n",
      "\n",
      "\n",
      "-----------------------\n"
     ]
    },
    {
     "name": "stderr",
     "output_type": "stream",
     "text": [
      "--- response header ---\n",
      "HTTP/1.1 101 Switching Protocols\n",
      "Connection: Upgrade\n",
      "Date: Mon, 31 Mar 2025 22:59:12 GMT\n",
      "Server: Kestrel\n",
      "Upgrade: websocket\n",
      "Sec-WebSocket-Accept: pCbz0+Ie/J5NQFEICv8/xMMPZzw=\n",
      "-----------------------\n",
      "-- web socket open --\n",
      "-- web socket open --\n",
      "Sending message <signalrcore.messages.handshake.request.HandshakeRequestMessage object at 0x111105780>\n",
      "Sending message <signalrcore.messages.handshake.request.HandshakeRequestMessage object at 0x111105780>\n",
      "{\"protocol\": \"json\", \"version\": 1}\u001e\n",
      "{\"protocol\": \"json\", \"version\": 1}\u001e\n",
      "++Sent raw: b'\\x81\\xa3\\x10\\xeaX\\x81k\\xc8(\\xf3\\x7f\\x9e7\\xe2\\x7f\\x86z\\xbb0\\xc82\\xf2\\x7f\\x84z\\xad0\\xc8.\\xe4b\\x991\\xee~\\xc8b\\xa1!\\x97F'\n",
      "++Sent decoded: fin=1 opcode=1 data=b'{\"protocol\": \"json\", \"version\": 1}\\x1e'\n",
      "++Rcv raw: b'\\x81\\x03{}\\x1e'\n",
      "++Rcv decoded: fin=1 opcode=1 data=b'{}\\x1e'\n",
      "Message received{}\u001e\n",
      "Message received{}\u001e\n",
      "Evaluating handshake {}\u001e\n",
      "Evaluating handshake {}\u001e\n"
     ]
    },
    {
     "name": "stdout",
     "output_type": "stream",
     "text": [
      "connection opened and handshake received ready to send messages\n"
     ]
    },
    {
     "name": "stderr",
     "output_type": "stream",
     "text": [
      "Sending message <signalrcore.messages.ping_message.PingMessage object at 0x111106200>\n",
      "Sending message <signalrcore.messages.ping_message.PingMessage object at 0x111106200>\n",
      "{\"type\": 6}\u001e\n",
      "{\"type\": 6}\u001e\n",
      "++Sent raw: b'\\x81\\x8c\\xe9:\\xee6\\x92\\x18\\x9aO\\x99_\\xcc\\x0c\\xc9\\x0c\\x93('\n",
      "++Sent decoded: fin=1 opcode=1 data=b'{\"type\": 6}\\x1e'\n",
      "++Rcv raw: b'\\x81\\x0b{\"type\":6}\\x1e'\n",
      "++Rcv decoded: fin=1 opcode=1 data=b'{\"type\":6}\\x1e'\n",
      "Message received{\"type\":6}\u001e\n",
      "Message received{\"type\":6}\u001e\n",
      "Raw message incomming: \n",
      "Raw message incomming: \n",
      "{\"type\":6}\u001e\n",
      "{\"type\":6}\u001e\n",
      "Sending message <signalrcore.messages.ping_message.PingMessage object at 0x10d9041f0>\n",
      "Sending message <signalrcore.messages.ping_message.PingMessage object at 0x10d9041f0>\n",
      "{\"type\": 6}\u001e\n",
      "{\"type\": 6}\u001e\n",
      "++Sent raw: b'\\x81\\x8cL\\x06\\xb5\\x987$\\xc1\\xe1<c\\x97\\xa2l0\\xc8\\x86'\n",
      "++Sent decoded: fin=1 opcode=1 data=b'{\"type\": 6}\\x1e'\n",
      "++Rcv raw: b'\\x81\\x0b{\"type\":6}\\x1e'\n",
      "++Rcv decoded: fin=1 opcode=1 data=b'{\"type\":6}\\x1e'\n",
      "Message received{\"type\":6}\u001e\n",
      "Message received{\"type\":6}\u001e\n",
      "Raw message incomming: \n",
      "Raw message incomming: \n",
      "{\"type\":6}\u001e\n",
      "{\"type\":6}\u001e\n",
      "Sending message <signalrcore.messages.ping_message.PingMessage object at 0x111106230>\n",
      "Sending message <signalrcore.messages.ping_message.PingMessage object at 0x111106230>\n",
      "{\"type\": 6}\u001e\n",
      "{\"type\": 6}\u001e\n",
      "++Sent raw: b'\\x81\\x8c\\x8e\\xbc\\x87\\x02\\xf5\\x9e\\xf3{\\xfe\\xd9\\xa58\\xae\\x8a\\xfa\\x1c'\n",
      "++Sent decoded: fin=1 opcode=1 data=b'{\"type\": 6}\\x1e'\n",
      "Sending message <signalrcore.messages.ping_message.PingMessage object at 0x10d9041f0>\n",
      "Sending message <signalrcore.messages.ping_message.PingMessage object at 0x10d9041f0>\n",
      "{\"type\": 6}\u001e\n",
      "{\"type\": 6}\u001e\n",
      "++Sent raw: b'\\x81\\x8c\\x92\\x85d\\xca\\xe9\\xa7\\x10\\xb3\\xe2\\xe0F\\xf0\\xb2\\xb3\\x19\\xd4'\n",
      "++Sent decoded: fin=1 opcode=1 data=b'{\"type\": 6}\\x1e'\n",
      "++Rcv raw: b'\\x81\\x0b{\"type\":6}\\x1e'\n",
      "++Rcv decoded: fin=1 opcode=1 data=b'{\"type\":6}\\x1e'\n",
      "Message received{\"type\":6}\u001e\n",
      "Message received{\"type\":6}\u001e\n",
      "Raw message incomming: \n",
      "Raw message incomming: \n",
      "{\"type\":6}\u001e\n",
      "{\"type\":6}\u001e\n",
      "Sending message <signalrcore.messages.ping_message.PingMessage object at 0x111093d60>\n",
      "Sending message <signalrcore.messages.ping_message.PingMessage object at 0x111093d60>\n",
      "{\"type\": 6}\u001e\n",
      "{\"type\": 6}\u001e\n",
      "++Sent raw: b'\\x81\\x8c\\x85$F\\xfb\\xfe\\x062\\x82\\xf5Ad\\xc1\\xa5\\x12;\\xe5'\n",
      "++Sent decoded: fin=1 opcode=1 data=b'{\"type\": 6}\\x1e'\n",
      "++Rcv raw: b'\\x81\\x0b{\"type\":6}\\x1e'\n",
      "++Rcv decoded: fin=1 opcode=1 data=b'{\"type\":6}\\x1e'\n",
      "Message received{\"type\":6}\u001e\n",
      "Message received{\"type\":6}\u001e\n",
      "Raw message incomming: \n",
      "Raw message incomming: \n",
      "{\"type\":6}\u001e\n",
      "{\"type\":6}\u001e\n",
      "Sending message <signalrcore.messages.ping_message.PingMessage object at 0x1111053f0>\n",
      "Sending message <signalrcore.messages.ping_message.PingMessage object at 0x1111053f0>\n",
      "{\"type\": 6}\u001e\n",
      "{\"type\": 6}\u001e\n",
      "++Sent raw: b'\\x81\\x8c,Q4\\xaeWs@\\xd7\\\\4\\x16\\x94\\x0cgI\\xb0'\n",
      "++Sent decoded: fin=1 opcode=1 data=b'{\"type\": 6}\\x1e'\n",
      "Sending message <signalrcore.messages.ping_message.PingMessage object at 0x1110939d0>\n",
      "Sending message <signalrcore.messages.ping_message.PingMessage object at 0x1110939d0>\n",
      "{\"type\": 6}\u001e\n",
      "{\"type\": 6}\u001e\n",
      "++Sent raw: b'\\x81\\x8c\\xdb\\x17\\xbeQ\\xa05\\xca(\\xabr\\x9ck\\xfb!\\xc3O'\n",
      "++Sent decoded: fin=1 opcode=1 data=b'{\"type\": 6}\\x1e'\n",
      "++Rcv raw: b'\\x81\\x0b{\"type\":6}\\x1e'\n",
      "++Rcv decoded: fin=1 opcode=1 data=b'{\"type\":6}\\x1e'\n",
      "Message received{\"type\":6}\u001e\n",
      "Message received{\"type\":6}\u001e\n",
      "Raw message incomming: \n",
      "Raw message incomming: \n",
      "{\"type\":6}\u001e\n",
      "{\"type\":6}\u001e\n",
      "Sending message <signalrcore.messages.ping_message.PingMessage object at 0x10d9040a0>\n",
      "Sending message <signalrcore.messages.ping_message.PingMessage object at 0x10d9040a0>\n",
      "{\"type\": 6}\u001e\n",
      "{\"type\": 6}\u001e\n",
      "++Sent raw: b'\\x81\\x8ce\\x1b<\\x0b\\x1e9Hr\\x15~\\x1e1E-A\\x15'\n",
      "++Sent decoded: fin=1 opcode=1 data=b'{\"type\": 6}\\x1e'\n",
      "Sending message <signalrcore.messages.ping_message.PingMessage object at 0x10d9040a0>\n",
      "Sending message <signalrcore.messages.ping_message.PingMessage object at 0x10d9040a0>\n",
      "{\"type\": 6}\u001e\n",
      "{\"type\": 6}\u001e\n",
      "++Sent raw: b'\\x81\\x8c\\xf4A\\xd9\\xe5\\x8fc\\xad\\x9c\\x84$\\xfb\\xdf\\xd4w\\xa4\\xfb'\n",
      "++Sent decoded: fin=1 opcode=1 data=b'{\"type\": 6}\\x1e'\n",
      "++Rcv raw: b'\\x81\\x0b{\"type\":6}\\x1e'\n",
      "++Rcv decoded: fin=1 opcode=1 data=b'{\"type\":6}\\x1e'\n",
      "Message received{\"type\":6}\u001e\n",
      "Message received{\"type\":6}\u001e\n",
      "Raw message incomming: \n",
      "Raw message incomming: \n",
      "{\"type\":6}\u001e\n",
      "{\"type\":6}\u001e\n",
      "Sending message <signalrcore.messages.ping_message.PingMessage object at 0x111106c80>\n",
      "Sending message <signalrcore.messages.ping_message.PingMessage object at 0x111106c80>\n",
      "{\"type\": 6}\u001e\n",
      "{\"type\": 6}\u001e\n",
      "++Sent raw: b'\\x81\\x8cdF\\xc7&\\x1fd\\xb3_\\x14#\\xe5\\x1cDp\\xba8'\n",
      "++Sent decoded: fin=1 opcode=1 data=b'{\"type\": 6}\\x1e'\n",
      "++Rcv raw: b'\\x81\\x0b{\"type\":6}\\x1e'\n",
      "++Rcv decoded: fin=1 opcode=1 data=b'{\"type\":6}\\x1e'\n",
      "Message received{\"type\":6}\u001e\n",
      "Message received{\"type\":6}\u001e\n",
      "Raw message incomming: \n",
      "Raw message incomming: \n",
      "{\"type\":6}\u001e\n",
      "{\"type\":6}\u001e\n",
      "Sending message <signalrcore.messages.ping_message.PingMessage object at 0x111106f20>\n",
      "Sending message <signalrcore.messages.ping_message.PingMessage object at 0x111106f20>\n",
      "{\"type\": 6}\u001e\n",
      "{\"type\": 6}\u001e\n",
      "++Sent raw: b'\\x81\\x8c\\xdd+\\x8c\\x17\\xa6\\t\\xf8n\\xadN\\xae-\\xfd\\x1d\\xf1\\t'\n",
      "++Sent decoded: fin=1 opcode=1 data=b'{\"type\": 6}\\x1e'\n",
      "Sending message <signalrcore.messages.ping_message.PingMessage object at 0x111093d60>\n",
      "Sending message <signalrcore.messages.ping_message.PingMessage object at 0x111093d60>\n",
      "{\"type\": 6}\u001e\n",
      "{\"type\": 6}\u001e\n",
      "++Sent raw: b'\\x81\\x8cx\\x96@\\xc3\\x03\\xb44\\xba\\x08\\xf3b\\xf9X\\xa0=\\xdd'\n",
      "++Sent decoded: fin=1 opcode=1 data=b'{\"type\": 6}\\x1e'\n",
      "++Rcv raw: b'\\x81\\x0b{\"type\":6}\\x1e'\n",
      "++Rcv decoded: fin=1 opcode=1 data=b'{\"type\":6}\\x1e'\n",
      "Message received{\"type\":6}\u001e\n",
      "Message received{\"type\":6}\u001e\n",
      "Raw message incomming: \n",
      "Raw message incomming: \n",
      "{\"type\":6}\u001e\n",
      "{\"type\":6}\u001e\n",
      "Sending message <signalrcore.messages.ping_message.PingMessage object at 0x10d9040a0>\n",
      "Sending message <signalrcore.messages.ping_message.PingMessage object at 0x10d9040a0>\n",
      "{\"type\": 6}\u001e\n",
      "{\"type\": 6}\u001e\n",
      "++Sent raw: b'\\x81\\x8c\\x19{\\x04\\x9ebYp\\xe7i\\x1e&\\xa49My\\x80'\n",
      "++Sent decoded: fin=1 opcode=1 data=b'{\"type\": 6}\\x1e'\n",
      "++Rcv raw: b'\\x81\\x0b{\"type\":6}\\x1e'\n",
      "++Rcv decoded: fin=1 opcode=1 data=b'{\"type\":6}\\x1e'\n",
      "Message received{\"type\":6}\u001e\n",
      "Message received{\"type\":6}\u001e\n",
      "Raw message incomming: \n",
      "Raw message incomming: \n",
      "{\"type\":6}\u001e\n",
      "{\"type\":6}\u001e\n",
      "Sending message <signalrcore.messages.ping_message.PingMessage object at 0x1110939d0>\n",
      "Sending message <signalrcore.messages.ping_message.PingMessage object at 0x1110939d0>\n",
      "{\"type\": 6}\u001e\n",
      "{\"type\": 6}\u001e\n",
      "++Sent raw: b'\\x81\\x8c\\x900_q\\xeb\\x12+\\x08\\xe0U}K\\xb0\\x06\"o'\n",
      "++Sent decoded: fin=1 opcode=1 data=b'{\"type\": 6}\\x1e'\n",
      "Sending message <signalrcore.messages.ping_message.PingMessage object at 0x10d9041f0>\n",
      "Sending message <signalrcore.messages.ping_message.PingMessage object at 0x10d9041f0>\n",
      "{\"type\": 6}\u001e\n",
      "{\"type\": 6}\u001e\n",
      "++Sent raw: b'\\x81\\x8c\\xc6\\xd5\\xbb\\xf7\\xbd\\xf7\\xcf\\x8e\\xb6\\xb0\\x99\\xcd\\xe6\\xe3\\xc6\\xe9'\n",
      "++Sent decoded: fin=1 opcode=1 data=b'{\"type\": 6}\\x1e'\n",
      "++Rcv raw: b'\\x81\\x0b{\"type\":6}\\x1e'\n",
      "++Rcv decoded: fin=1 opcode=1 data=b'{\"type\":6}\\x1e'\n",
      "Message received{\"type\":6}\u001e\n",
      "Message received{\"type\":6}\u001e\n",
      "Raw message incomming: \n",
      "Raw message incomming: \n",
      "{\"type\":6}\u001e\n",
      "{\"type\":6}\u001e\n",
      "Sending message <signalrcore.messages.ping_message.PingMessage object at 0x1110939d0>\n",
      "Sending message <signalrcore.messages.ping_message.PingMessage object at 0x1110939d0>\n",
      "{\"type\": 6}\u001e\n",
      "{\"type\": 6}\u001e\n",
      "++Sent raw: b'\\x81\\x8c\\xc9\\xcbN1\\xb2\\xe9:H\\xb9\\xael\\x0b\\xe9\\xfd3/'\n",
      "++Sent decoded: fin=1 opcode=1 data=b'{\"type\": 6}\\x1e'\n",
      "Sending message <signalrcore.messages.ping_message.PingMessage object at 0x1110939d0>\n",
      "Sending message <signalrcore.messages.ping_message.PingMessage object at 0x1110939d0>\n",
      "{\"type\": 6}\u001e\n",
      "{\"type\": 6}\u001e\n",
      "++Sent raw: b'\\x81\\x8c\\x0e\\x0f\\xec6u-\\x98O~j\\xce\\x0c.9\\x91('\n",
      "++Sent decoded: fin=1 opcode=1 data=b'{\"type\": 6}\\x1e'\n",
      "++Rcv raw: b'\\x81\\x0b{\"type\":6}\\x1e'\n",
      "++Rcv decoded: fin=1 opcode=1 data=b'{\"type\":6}\\x1e'\n",
      "Message received{\"type\":6}\u001e\n",
      "Message received{\"type\":6}\u001e\n",
      "Raw message incomming: \n",
      "Raw message incomming: \n",
      "{\"type\":6}\u001e\n",
      "{\"type\":6}\u001e\n",
      "Sending message <signalrcore.messages.ping_message.PingMessage object at 0x10d9040a0>\n",
      "Sending message <signalrcore.messages.ping_message.PingMessage object at 0x10d9040a0>\n",
      "{\"type\": 6}\u001e\n",
      "{\"type\": 6}\u001e\n",
      "++Sent raw: b'\\x81\\x8c\\x00V\\xbd\\xfe{t\\xc9\\x87p3\\x9f\\xc4 `\\xc0\\xe0'\n",
      "++Sent decoded: fin=1 opcode=1 data=b'{\"type\": 6}\\x1e'\n",
      "++Rcv raw: b'\\x81\\x0b{\"type\":6}\\x1e'\n",
      "++Rcv decoded: fin=1 opcode=1 data=b'{\"type\":6}\\x1e'\n",
      "Message received{\"type\":6}\u001e\n",
      "Message received{\"type\":6}\u001e\n",
      "Raw message incomming: \n",
      "Raw message incomming: \n",
      "{\"type\":6}\u001e\n",
      "{\"type\":6}\u001e\n",
      "Sending message <signalrcore.messages.ping_message.PingMessage object at 0x111093d60>\n",
      "Sending message <signalrcore.messages.ping_message.PingMessage object at 0x111093d60>\n",
      "{\"type\": 6}\u001e\n",
      "{\"type\": 6}\u001e\n",
      "++Sent raw: b'\\x81\\x8c\\xe6\\x0e\\x9a\\xc7\\x9d,\\xee\\xbe\\x96k\\xb8\\xfd\\xc68\\xe7\\xd9'\n",
      "++Sent decoded: fin=1 opcode=1 data=b'{\"type\": 6}\\x1e'\n",
      "Sending message <signalrcore.messages.ping_message.PingMessage object at 0x10d9040a0>\n",
      "Sending message <signalrcore.messages.ping_message.PingMessage object at 0x10d9040a0>\n",
      "{\"type\": 6}\u001e\n",
      "{\"type\": 6}\u001e\n",
      "++Sent raw: b'\\x81\\x8cY\\xc2J\\xc8\"\\xe0>\\xb1)\\xa7h\\xf2y\\xf47\\xd6'\n",
      "++Sent decoded: fin=1 opcode=1 data=b'{\"type\": 6}\\x1e'\n",
      "++Rcv raw: b'\\x81\\x0b{\"type\":6}\\x1e'\n",
      "++Rcv decoded: fin=1 opcode=1 data=b'{\"type\":6}\\x1e'\n",
      "Message received{\"type\":6}\u001e\n",
      "Message received{\"type\":6}\u001e\n",
      "Raw message incomming: \n",
      "Raw message incomming: \n",
      "{\"type\":6}\u001e\n",
      "{\"type\":6}\u001e\n",
      "Sending message <signalrcore.messages.ping_message.PingMessage object at 0x111107310>\n",
      "Sending message <signalrcore.messages.ping_message.PingMessage object at 0x111107310>\n",
      "{\"type\": 6}\u001e\n",
      "{\"type\": 6}\u001e\n",
      "++Sent raw: b'\\x81\\x8c\\xb65\\xcd\\xcc\\xcd\\x17\\xb9\\xb5\\xc6P\\xef\\xf6\\x96\\x03\\xb0\\xd2'\n",
      "++Sent decoded: fin=1 opcode=1 data=b'{\"type\": 6}\\x1e'\n",
      "++Rcv raw: b'\\x81\\x0b{\"type\":6}\\x1e'\n",
      "++Rcv decoded: fin=1 opcode=1 data=b'{\"type\":6}\\x1e'\n",
      "Message received{\"type\":6}\u001e\n",
      "Message received{\"type\":6}\u001e\n",
      "Raw message incomming: \n",
      "Raw message incomming: \n",
      "{\"type\":6}\u001e\n",
      "{\"type\":6}\u001e\n",
      "Sending message <signalrcore.messages.ping_message.PingMessage object at 0x10d9041f0>\n",
      "Sending message <signalrcore.messages.ping_message.PingMessage object at 0x10d9041f0>\n",
      "{\"type\": 6}\u001e\n",
      "{\"type\": 6}\u001e\n",
      "++Sent raw: b'\\x81\\x8c\\xd5\\xb7\\xfaR\\xae\\x95\\x8e+\\xa5\\xd2\\xd8h\\xf5\\x81\\x87L'\n",
      "++Sent decoded: fin=1 opcode=1 data=b'{\"type\": 6}\\x1e'\n"
     ]
    }
   ],
   "source": [
    "invoicestateupdates = w.invoicestateupdates()"
   ]
  },
  {
   "cell_type": "code",
   "execution_count": 24,
   "metadata": {},
   "outputs": [
    {
     "name": "stderr",
     "output_type": "stream",
     "text": [
      "Sending message <signalrcore.messages.stream_invocation_message.StreamInvocationMessage object at 0x111107460>\n",
      "Sending message <signalrcore.messages.stream_invocation_message.StreamInvocationMessage object at 0x111107460>\n",
      "{\"type\": 4, \"headers\": {}, \"target\": \"StreamAsync\", \"arguments\": [\"CkAKEgoQYZkanJK3QR6coz4RnxVlcBIiCiD4oI9Y5VGrbT3TFfBehHoJ3+DS1qPGXr7OAGbKLOW20xoGCMG8rL8GEkIKQDzzxuW4bI/LUYWg2wRaNtJ5KLKGWODqpYdfyDP+6rg5co0iyMXgPJWNCvFE32CLFHNf0HE/gV8D+Ygd6x44qgU=\"], \"invocationId\": \"0ab22e2b-61d3-46e2-a390-45d3132d6313\", \"streamIds\": []}\u001e\n",
      "{\"type\": 4, \"headers\": {}, \"target\": \"StreamAsync\", \"arguments\": [\"CkAKEgoQYZkanJK3QR6coz4RnxVlcBIiCiD4oI9Y5VGrbT3TFfBehHoJ3+DS1qPGXr7OAGbKLOW20xoGCMG8rL8GEkIKQDzzxuW4bI/LUYWg2wRaNtJ5KLKGWODqpYdfyDP+6rg5co0iyMXgPJWNCvFE32CLFHNf0HE/gV8D+Ygd6x44qgU=\"], \"invocationId\": \"0ab22e2b-61d3-46e2-a390-45d3132d6313\", \"streamIds\": []}\u001e\n",
      "++Sent raw: b'\\x81\\xfe\\x01D\"\\x14fgY6\\x12\\x1eRqD]\\x02 JG\\x00|\\x03\\x06Fq\\x14\\x14\\x00.F\\x1c_8FEVu\\x14\\x00G`D]\\x0265\\x13Pq\\x07\\ncg\\x1f\\tA6JG\\x00u\\x14\\x00Wy\\x03\\tVgD]\\x02OD$IU-\"E{7>x\\x7f\\x07\\th_U6p\"\\x05\\x08X 4\\tZB\\n\\x04`]\\x0f$KPR\\x08k-?RtS\\x14\\x05v\\'2!DV\\x03\\x0fj{,T\\tP5VSD!?P#)&ev-+mCTWZ{!$oS^\\x15n,!\"I]-6fn\\x1c\\x1fWCR\\x05k;*2{C\\x01UUF\\x07)V^S,n_!0mP\\x17\\x17{p\\x00\\x1efDMQPsS\\x04M$\\x0f\\x1eoL\\x017hC($TR#T\\x10W*!jZ\\x00WjQI\\x00t,\"L{s\\x02QZ R\\x16EA[E\\x7f8FEKz\\x10\\x08Au\\x12\\x0eMz/\\x03\\x00.FE\\x12u\\x04U\\x10qT\\x05\\x0f\"W\\x03\\x119RQG&K\\x06\\x11-VJ\\x16!\\x02T\\x13\\'T\\x03\\x14\\'WT\\x008FEQ`\\x14\\x02Cy/\\x03Q6\\\\GyI\\x1by'\n",
      "++Sent decoded: fin=1 opcode=1 data=b'{\"type\": 4, \"headers\": {}, \"target\": \"StreamAsync\", \"arguments\": [\"CkAKEgoQYZkanJK3QR6coz4RnxVlcBIiCiD4oI9Y5VGrbT3TFfBehHoJ3+DS1qPGXr7OAGbKLOW20xoGCMG8rL8GEkIKQDzzxuW4bI/LUYWg2wRaNtJ5KLKGWODqpYdfyDP+6rg5co0iyMXgPJWNCvFE32CLFHNf0HE/gV8D+Ygd6x44qgU=\"], \"invocationId\": \"0ab22e2b-61d3-46e2-a390-45d3132d6313\", \"streamIds\": []}\\x1e'\n"
     ]
    }
   ],
   "source": [
    "invoicestateupdates.stream(lambda x: print(\"AAAAAAAA\",x), lambda e,x: print(x))"
   ]
  },
  {
   "cell_type": "code",
   "execution_count": 20,
   "metadata": {},
   "outputs": [],
   "source": [
    "w.cancelinvoice(invoice[\"paymentHash\"])"
   ]
  },
  {
   "cell_type": "code",
   "execution_count": 25,
   "metadata": {},
   "outputs": [
    {
     "data": {
      "text/plain": [
       "{'paymentRequest': 'lnbcrt10u1pn7k837pp5kt653rdgkurg8jsxnkfauyel9tyqmkgjae0hy4js3qdrek3ekpfqdq8w3jhxaqcqzzsxqp7sp5722hkcx869t5aq80jdu470uydxpzve60e6y9ca70saj5ktv0dnws9p4gqqqqqqqqqqqqqqqqqqqqqqqqqqqqqqqqqqqqqqqqqqqqqqpqysgq34y0xkx4gtuxlpz3tgp0js2jzunhs8wds9uackdng4wal6rqerw8kunx4yn8vggpu3qsymzj97dwvdzryg9y85qefqdf2gl76s0ldygqndhjyt',\n",
       " 'state': 2,\n",
       " 'isHodl': False,\n",
       " 'settleTime': '1970-01-01T00:00:00Z',\n",
       " 'paymentHash': 'b2f5488da8b70683ca069d93de133f2ac80dd912ee5f725650881a3cda39b052',\n",
       " 'satoshis': 1000,\n",
       " 'paymentAddr': 'f2957b60c7d1574e80ef93795f3f84698226674fce885c77cf87654b2d8f6cdd',\n",
       " 'memo': 'test',\n",
       " 'creationTime': '2025-03-31T22:59:10Z',\n",
       " 'expiryTime': '2025-03-31T22:59:40Z'}"
      ]
     },
     "execution_count": 25,
     "metadata": {},
     "output_type": "execute_result"
    }
   ],
   "source": [
    "w.getinvoice(invoice[\"paymentHash\"])"
   ]
  },
  {
   "cell_type": "code",
   "execution_count": 17,
   "metadata": {},
   "outputs": [
    {
     "name": "stderr",
     "output_type": "stream",
     "text": [
      "Connection stop\n",
      "++Sent raw: b'\\x88\\x82\\xed\\xdb\\xd4V\\xee3'\n",
      "++Sent decoded: fin=1 opcode=8 data=b'\\x03\\xe8'\n"
     ]
    }
   ],
   "source": [
    "invoicestateupdates.stop()"
   ]
  },
  {
   "cell_type": "code",
   "execution_count": null,
   "metadata": {},
   "outputs": [],
   "source": []
  }
 ],
 "metadata": {
  "kernelspec": {
   "display_name": "llm",
   "language": "python",
   "name": "python3"
  },
  "language_info": {
   "codemirror_mode": {
    "name": "ipython",
    "version": 3
   },
   "file_extension": ".py",
   "mimetype": "text/x-python",
   "name": "python",
   "nbconvert_exporter": "python",
   "pygments_lexer": "ipython3",
   "version": "3.10.11"
  }
 },
 "nbformat": 4,
 "nbformat_minor": 2
}
